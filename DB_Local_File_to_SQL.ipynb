{
 "cells": [
  {
   "cell_type": "markdown",
   "metadata": {},
   "source": [
    "# LOCAL CSV to SQL"
   ]
  },
  {
   "cell_type": "code",
   "execution_count": null,
   "metadata": {},
   "outputs": [],
   "source": [
    "import pandas as pd\n",
    "import pandas.io.sql as sqlio\n",
    "import pymysql\n",
    "import psycopg2\n",
    "from sqlalchemy import create_engine\n",
    "import os\n",
    "from os.path import isfile, join"
   ]
  },
  {
   "cell_type": "markdown",
   "metadata": {},
   "source": [
    "### SET SQL SERVER CONNECTION"
   ]
  },
  {
   "cell_type": "code",
   "execution_count": null,
   "metadata": {},
   "outputs": [],
   "source": [
    "#PostgreSQL\n",
    "p_host = 'localhost'\n",
    "p_port = 5432\n",
    "p_dbname = 'DS_DH'\n",
    "p_username = ''\n",
    "p_pwd = ''\n",
    "\n",
    "#MySQL\n",
    "m_host = 'localhost'\n",
    "m_port = 3306\n",
    "m_dbname = 'DS_DH'\n",
    "m_username = 'root'\n",
    "m_pwd = 'root'\n",
    "\n",
    "\n",
    "p_engine = create_engine('postgresql://'+p_username+':'+p_pwd+'@'+p_host+':'+str(p_port)+'/'+p_dbname)\n",
    "m_engine = create_engine('mysql+pymysql://'+m_username+':'+m_pwd+'@'+m_host+':'+str(m_port)+'/'+m_dbname, echo=False)"
   ]
  },
  {
   "cell_type": "markdown",
   "metadata": {},
   "source": [
    "## FUNÇÕES PARA JOGAR O CONTEÚDO DE UM OU MAIS ARQUIVOS PARA MySQL OU POSTGRESQL"
   ]
  },
  {
   "cell_type": "code",
   "execution_count": null,
   "metadata": {},
   "outputs": [],
   "source": [
    "def arquivo(engine,mypath,fname,fid):\n",
    "    df = pd.read_csv(mypath+fname)\n",
    "    tablename = fname[:-4]\n",
    "    print('tablename:', tablename)\n",
    "    df.to_sql(name=tablename, con=engine, if_exists='replace')\n",
    "    query = 'SELECT * FROM ' + tablename\n",
    "    df1 = sqlio.read_sql_query(query, engine)\n",
    "    if len(df.index) == len(df1.index):\n",
    "        print(fname, 'subiu com sucesso')\n",
    "    else:\n",
    "        print(fname, 'deu ERRO')\n",
    "    return \"OK\"\n",
    "\n",
    "def arquivos(cur,mypath,files):\n",
    "    for file in files:\n",
    "        fname = file\n",
    "        fid = files[\"file\"]\n",
    "        tablename = fname[:-4]\n",
    "        print('file:', fname, 'tablename:', tablename)\n",
    "        df = pd.read_csv(mypath+fname)\n",
    "        df.to_sql(name=tablename, con=engine, if_exists='replace')\n",
    "        query = 'SELECT * FROM ' + tablename\n",
    "        df1 = sqlio.read_sql_query(query, cur)\n",
    "        if len(df.index) == len(df1.index):\n",
    "            print(fname, 'subiu com sucesso')\n",
    "        else:\n",
    "            print(fname, 'deu ERRO')\n",
    "    return \"OK\"\n"
   ]
  },
  {
   "cell_type": "markdown",
   "metadata": {},
   "source": [
    "### FORMAS DE LISTAR OS ARQUIVOS DE UMA PASTA"
   ]
  },
  {
   "cell_type": "code",
   "execution_count": null,
   "metadata": {},
   "outputs": [],
   "source": [
    "from os.path import isfile, join\n",
    "mypath = '/Users/eduardo/OwnCloud/WORK/Microsoft/xbox/DB/Exports/BGS/2017/1010/' #deve terminar em \"/\" para funcionar na função\n",
    "files = os.listdir(mypath)\n",
    "print(files)\n",
    "files = os.walk(mypath)\n",
    "print(files)\n",
    "files = [f for f in os.listdir(mypath) if isfile(join(mypath, f))]\n",
    "print(files)"
   ]
  },
  {
   "cell_type": "markdown",
   "metadata": {},
   "source": [
    "### CONFIGURAÇÃO DE QUAIS ARQUIVOS DESEJA SUBIR PARA O SQL\n",
    "\n",
    "Entre com o nome do arquivo que deseja subir para o SQL, ou digite '*' para subir todos os arquivos de uma vez e precione \"enter\", depois digite \"mysql\" ou \"postgresql\" para selecionar em qual banco deseja subir seu arquivo."
   ]
  },
  {
   "cell_type": "code",
   "execution_count": null,
   "metadata": {},
   "outputs": [],
   "source": [
    "print(\"Digite o nome do arquivo que deseja subir com a extenção ou '*' para subir todos de uma vez:\")\n",
    "fname = input()\n",
    "\n",
    "print(\"Digite 'mysql' ou 'postgresql' para definir em qual banco deseja subir a tabela:\")\n",
    "eng = input()\n",
    "\n",
    "if eng == 'mysql':\n",
    "  engine = m_engine\n",
    "elif eng == 'postgresql':\n",
    "  engine = p_engine\n",
    "else:\n",
    "  print(\"ERRO: você não digitou a engine do banco corretamente\")\n",
    "\n",
    "if fname == \"*\":\n",
    "    subindo = arquivos(engine,mypath,files)\n",
    "    print(subindo)\n",
    "else:\n",
    "    fid = files[fname]\n",
    "    subindo = arquivo(engine,mypath,fname,fid)\n",
    "    print(subindo)"
   ]
  },
  {
   "cell_type": "code",
   "execution_count": null,
   "metadata": {},
   "outputs": [],
   "source": [
    "df"
   ]
  }
 ],
 "metadata": {
  "kernelspec": {
   "display_name": "Python 3",
   "language": "python",
   "name": "python3"
  },
  "language_info": {
   "codemirror_mode": {
    "name": "ipython",
    "version": 3
   },
   "file_extension": ".py",
   "mimetype": "text/x-python",
   "name": "python",
   "nbconvert_exporter": "python",
   "pygments_lexer": "ipython3",
   "version": "3.6.8"
  }
 },
 "nbformat": 4,
 "nbformat_minor": 2
}
